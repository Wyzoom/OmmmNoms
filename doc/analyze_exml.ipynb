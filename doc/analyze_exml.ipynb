{
 "cells": [
  {
   "cell_type": "markdown",
   "metadata": {},
   "source": [
    "# Analyzing No mans Sky EXML files"
   ]
  },
  {
   "cell_type": "code",
   "execution_count": 1,
   "metadata": {},
   "outputs": [],
   "source": [
    "# If you are new to Pyton, and just want to run this file, install conda\n",
    "# https://docs.conda.io/projects/conda/en/latest/user-guide/install/download.html\n",
    "\n",
    "from lxml import etree\n",
    "import random as random\n",
    "import pickle\n",
    "import networkx as nx\n",
    "import matplotlib.pyplot as plt\n",
    "import tabulate as tb"
   ]
  },
  {
   "cell_type": "markdown",
   "metadata": {},
   "source": [
    "## Language files"
   ]
  },
  {
   "cell_type": "code",
   "execution_count": 2,
   "metadata": {},
   "outputs": [],
   "source": [
    "# usful functions\n",
    "def get_value_for_name(name, elements):\n",
    "    '''\n",
    "    takes avalue of a name field and returns the value from a iterable collection of Elements\n",
    "    '''\n",
    "    for e in elements:\n",
    "        if e.get('name') == name:\n",
    "            return e.get('value')\n",
    "    \n",
    "#Look up text IDs and their files\n",
    "def locate_id(Id):\n",
    "    print(\"Id: \"+ Id) \n",
    "    print(\"Text: \" + id_text[Id])\n",
    "    print(\"File: \" + id_file[Id])\n",
    "\n",
    "def is_in_string(substring, fullstring):\n",
    "    if substring in fullstring:\n",
    "        return True\n",
    "    else:\n",
    "        return False\n",
    "\n",
    "def get_tag(tag,string):\n",
    "    open_tag = tag\n",
    "    close_tag = \"<>\"\n",
    "    while len(string) > 0 or len(string) < 0:\n",
    "        sub_idx =string.find(open_tag)\n",
    "        #print(\"open_idx: \", str(sub_idx))\n",
    "        string = string[sub_idx + len(open_tag):]\n",
    "        #print(string)\n",
    "        sub_idx = string.find(close_tag)\n",
    "        #print(\"close_idx: \", str(sub_idx))\n",
    "        content = string[: sub_idx ]\n",
    "        return content\n",
    "\n",
    "def locate_word(word):\n",
    "    locs = {}\n",
    "    for k,v in id_text.items():\n",
    "        if is_in_string(word,v):\n",
    "            locs[k]= v\n",
    "    return locs\n",
    "\n",
    "def find_tags(tag) :\n",
    "    audo_strings = []\n",
    "    for k, v in id_text.items():\n",
    "        if is_in_string(tag,v):\n",
    "            #print(\"-------------\")\n",
    "            #print(v)\n",
    "            text = get_tag(tag,v)\n",
    "            if text is not None:\n",
    "                audo_strings.append(text)\n",
    "    return audo_strings\n",
    "\n",
    "#set(find_tags(\"<IMG>\"))\n",
    "    \n",
    "#locate_word(\"4925C\")\n",
    "#locateId('MISSION_OBJ_COLLECT')    "
   ]
  },
  {
   "cell_type": "code",
   "execution_count": 3,
   "metadata": {},
   "outputs": [],
   "source": [
    "# Load langage files and put the in dictionaries\n",
    "# There is also 'NMS_LOC1_USENGLISH.EXML, but we will ignore that one, asit has identical keys\n",
    "files =['NMS_LOC1_ENGLISH.EXML',\n",
    "        'NMS_LOC4_ENGLISH.EXML',\n",
    "        'NMS_LOC5_ENGLISH.EXML',\n",
    "        'NMS_LOC6_USENGLISH.EXML',\n",
    "        'NMS_UPDATE3_ENGLISH.EXML'\n",
    "       ]\n",
    "#string id : file it comes from\n",
    "id_file = {}\n",
    "# stringd id : the actual text\n",
    "id_text = {}\n",
    "\n",
    "for f in files:\n",
    "    tree = etree.parse(\"language/\" + f)\n",
    "    root = tree.getroot()\n",
    "    \n",
    "    for child in root[0]:\n",
    "        x = child[0].get('value')\n",
    "        y = child[1][0].get('value')\n",
    "        id_file[x] = f\n",
    "        id_text[x] = y"
   ]
  },
  {
   "cell_type": "code",
   "execution_count": 4,
   "metadata": {},
   "outputs": [],
   "source": [
    "# Processing can take a while. After the first run, you can save the dictionaries to disk, and just loead next tiem instead of parsing\n",
    "#pickle.dump(id_text,save( \"Id_to_text_dictionary.p\", \"wb\" ))\n",
    "\n"
   ]
  },
  {
   "cell_type": "code",
   "execution_count": 5,
   "metadata": {},
   "outputs": [
    {
     "name": "stdout",
     "output_type": "stream",
     "text": [
      "ITEMGEN_FOSSIL_COMMON_3\n",
      "Approximately <VAL_ON>%AGE%<> years old.\n",
      "\n",
      "It is impossible to look at this fossil without wondering what sort of life this creature lived and how it fitted it in the local ecosystem.\n",
      "NMS_UPDATE3_ENGLISH.EXML\n"
     ]
    }
   ],
   "source": [
    "#lets print a random one, just becasue we can\n",
    "random_id = random.choice(list(id_text.keys()))\n",
    "print(random_id)\n",
    "print(id_text[random_id])\n",
    "print(id_file[random_id])\n"
   ]
  },
  {
   "cell_type": "markdown",
   "metadata": {},
   "source": [
    "### lets pick out special tags that occur in dialogues"
   ]
  },
  {
   "cell_type": "code",
   "execution_count": 6,
   "metadata": {},
   "outputs": [
    {
     "name": "stdout",
     "output_type": "stream",
     "text": [
      "['UI_SPLITUP', 'TELEPORT_AIM', 'BUILD_ROTATE', 'VR_SNAPLEFT', 'FE_SELECT', 'JUMP', 'MARKER_TAG', 'FRIGMINE', 'VR_HOLSTER', 'TECHMENU', 'FRIGCOMBAT', 'CC_EXIT', 'OPTIONS>', 'RELOAD', 'SLASH', 'GALAXYWARP', 'NOTICK', 'FRIGDEFAULT', 'VIEW_PROFILE', 'INVSHIP', 'BUILD_MENU', 'SPEAKER', 'FIRE', 'CYCLEWEAPON', 'PREVTARGET', 'CHECKPOINT_DROP', 'BUILD_DELETE', 'TOGGLEBUYSELL', 'SCAN', 'PRODMENU', 'GRID', 'MISSION_TIP', 'GALAXYMOVE', 'MOVE', 'BUILD', 'PHOTO_HIDE', 'INVENTORY', 'FE_ALTSELECT', 'BUILD_INFO', 'BULLETPOINT', 'QUICK_ACTION', 'GMCAN', 'BRAKE', 'SHOW_OBJECTIVE', 'GALAXYEXPAND', 'COMMODITY', 'VR_TELEPORT', 'GAMERCARD', 'INVFREIGHT', 'SHIPCYCLEWEAPON', 'TRADEABLE', 'QUICK_BACK', 'BUILD_SELECT', 'INTERACT_LEFT', 'PIN', 'TRANSFER_SHIP', 'OPTIONS', 'CLOCK', 'TOGGLETERRAIN', 'INTERACTSECONDARY', 'HARVESTPLANT', 'GALAXYWAYPT', 'SWITCH', 'DIAMONDBULLET', 'PULSEJUMP', 'Tradeable', 'GALAXY_GESTURE', 'PLAYER_RIGHT', 'CC_CAMROT', 'GALAXYHOME', 'EXITMENU', 'ATTACK', 'FUEL', 'DISCARD', 'TRADETOGGLEINV', 'GALAXYSCAN', 'LOOK', 'PIN_BUILD', 'MELEE', 'PLACEMARKER', 'SIZETERRAIN_DN', 'PHOTO_CAM', 'GALAXYSCANNXT', 'BUILD_CAM', 'DISNETRETRY', 'GMSEL', 'SHIPFIRE', 'GMDEL', 'BINOCSCAN', 'FRIGEXPLORE', 'SURVEYFILTERL', 'GALAXYEXIT', 'EXITSHIP', 'QUICK_LEFT', 'HOTKEY1', 'TRADE_TOGGLE_INV', 'EDITTERRAIN', 'ROTTERRAINLEFT', 'SHIPSCAN', 'CYCLEALTWEAPON', 'BUILD_SCALE_UP', 'SELECT', 'EXOBOOST', 'GMBACK', 'BOOST', 'FE_BACK', 'CUSTOMMARK', 'PLACE_RACE_NODE', 'FE_TRANSFER', 'EX_SENTINEL', 'INVBACKPACK', 'PHOTO_COPYLOC', 'DECONSTRUCT', 'UNITS', 'AIM', 'ALTATTACK', 'GMRESTART', 'EXPAND', 'CC_CAM', 'TECHNOLOGY', 'ZOOM', 'DESELECT', 'HMD_CENTRE1', 'FE_ALT1', 'TRANSFER', 'BUILD_PLACE', 'PHOTO_SUN', 'DIFFICULTY', 'INTERACT', 'DANGER', 'REPAIR', 'HORN', 'THRUST', 'SHOWHUD', 'LANDSHIP', 'RUN', 'AMBIENT_CAMERA', 'SWITCH_BASE', 'MSGSKIP', 'FRIGTRADE', 'TICK', 'ROLLLEFT', 'SIZETERRAIN_UP', 'UI_LEFT', 'QUICK_MENU']\n"
     ]
    }
   ],
   "source": [
    "#TODO add auto tag extraction\n",
    "# IMG tags :\n",
    "IMG_tags = list(set(find_tags(\"<IMG>\")))\n",
    "print(IMG_tags)"
   ]
  },
  {
   "cell_type": "code",
   "execution_count": 7,
   "metadata": {},
   "outputs": [
    {
     "name": "stdout",
     "output_type": "stream",
     "text": [
      "['CrystalAltar_Collect', 'MUS_StoryMode_MusicCue_10_Lp', 'TXT_StaticNoise_Start', 'WPN_PL_TAKEOUT', 'UI_NoWhereToLand', 'UI_Standing_Increased', 'UI_Record_Uploaded', 'WARRIORANGRY', 'Communicator_Open', 'Portal_Jump_Story_End', 'MUS_StoryMode_MusicCue_10_Lp_Stop', 'TXT_RadioNoise', 'UI_Destination_Reached', 'WPN_PL_MELEE', 'UI_Nanites_Received', 'WPN_PL_PISTOL']\n"
     ]
    }
   ],
   "source": [
    "# AUDIO tags :\n",
    "AUDIO_tags = list(set(find_tags(\"<AUDIO>\")))\n",
    "print(AUDIO_tags )"
   ]
  },
  {
   "cell_type": "markdown",
   "metadata": {},
   "source": [
    "# Examining Missions"
   ]
  },
  {
   "cell_type": "code",
   "execution_count": 9,
   "metadata": {},
   "outputs": [],
   "source": [
    "#load the file\n",
    "# There are Property elements, that have different attributes\n",
    "npc_mission_tree = etree.parse(\"all_EXMLS/NPCMISSIONTABLE.EXML\")\n",
    "npc_mission_root = npc_mission_tree.getroot()"
   ]
  },
  {
   "cell_type": "code",
   "execution_count": 12,
   "metadata": {},
   "outputs": [],
   "source": [
    "tutorial_mission_tree = etree.parse(\"all_EXMLS/TUTORIALMISSIONTABLE.EXML\")\n",
    "tutorial_mission_root = tutorial_mission_tree.getroot()"
   ]
  },
  {
   "cell_type": "code",
   "execution_count": 13,
   "metadata": {},
   "outputs": [],
   "source": [
    "#help(etree.ElementTree)"
   ]
  },
  {
   "cell_type": "code",
   "execution_count": 14,
   "metadata": {},
   "outputs": [],
   "source": [
    "#lets get all possible properties.\n",
    "# For each property we also list all unique vlues ocuring in the table\n",
    "\n",
    "#here it means all possible 'name' attributes of Property elements\n",
    "all_names_of_properties = set()\n",
    "name_value = {}\n",
    "\n",
    "i =0\n",
    "for p in npc_mission_root.iter():\n",
    "    name = p.get(\"name\")\n",
    "    all_names_of_properties.add(name)\n",
    "    #add the current list, and then get the unique elements by turning it to set, and then back to list\n",
    "    val = p.get(\"value\")\n",
    "    if type(name) is not type(None):\n",
    "        if type(val) is not type(None):\n",
    "            if name in name_value.keys():\n",
    "                name_value[name].append(val)\n",
    "                name_value[name] = list(set(name_value[name]))\n",
    "                #print(name_value[name])\n",
    "                #cur = name_value[name]\n",
    "                #cur.append(val)\n",
    "                #new = list(set(cur))\n",
    "                #new = cur\n",
    "                #name_value[name] = new\n",
    "            else:\n",
    "                name_value[name] = [val]\n",
    "                \n",
    "#print(list(all_names_of_properties))\n",
    "output = tb.tabulate(name_value.items(), headers=[\"Property name\", \"Unique values\"],tablefmt = \"mediawiki\")\n",
    "#print(output)\n",
    "f = open(\"MissionVariablesAndvalues_mediawiki.txt\", \"w\")\n",
    "f.write(output)\n",
    "f.close()"
   ]
  },
  {
   "cell_type": "code",
   "execution_count": 15,
   "metadata": {},
   "outputs": [],
   "source": [
    "#name_value"
   ]
  },
  {
   "cell_type": "code",
   "execution_count": 16,
   "metadata": {},
   "outputs": [],
   "source": [
    "# lets get all available missions\n",
    "missions = []\n",
    "\n",
    "for m in npc_mission_root.iter('Property'):\n",
    "    #missions are a sequence of events\n",
    "    if m.get('value') == \"GcGenericMissionSequence.xml\":\n",
    "        missions.append(m)\n",
    "        #get all children Property elements, belonging to this element.\n",
    "        elements = m.iter()\n",
    "        \n",
    "       # print(\"MissionID: \" + get_value_for_name('MissionID',elements) )\n",
    "       # print(\"Mission description: \" + id_text[get_value_for_name('MissionObjective',elements)])\n",
    "#missions"
   ]
  },
  {
   "cell_type": "code",
   "execution_count": 17,
   "metadata": {},
   "outputs": [],
   "source": [
    "#all mission seqences\n",
    "mission_sequences = []\n",
    "mission_sequence_names = []\n",
    "for m in npc_mission_root[0]:\n",
    "    #missions are a sequence of events\n",
    "    for e in m.iter():\n",
    "        \n",
    "        if str(e.get('value')).find(\"MissionSequence\") > -1 :\n",
    "            val = e.get('value')\n",
    "            mission_sequences.append(e)\n",
    "            mission_sequence_names.append(val)\n",
    "        #get all children Property elements, belonging to this element.\n",
    "n_v = []\n",
    "output = \"\"\n",
    "for m in mission_sequences:\n",
    "    output = output + \"\\n\"+ \"=== \" + m.get('value') + \" ===\\n\"\n",
    "    \n",
    "    for e in m.iterchildren():\n",
    "        name = str(e.get('name'))\n",
    "        value = str(e.get('value'))\n",
    "        n_v.append([name,value])\n",
    "    output = output + tb.tabulate(n_v, headers=[\"Property name\", \"Value\"],tablefmt = \"mediawiki\")\n",
    "    n_v = []\n",
    "    \n",
    "f = open(\"all_MissionSequences_mediawiki.txt\", \"w\")\n",
    "f.write(output)\n",
    "f.close()\n",
    "    \n",
    "#set(mission_sequence_names)"
   ]
  },
  {
   "cell_type": "code",
   "execution_count": 18,
   "metadata": {},
   "outputs": [],
   "source": [
    "# Find unique mission sequences\n",
    "unique_ms = []\n",
    "for i in list(set(mission_sequence_names)):\n",
    "    unique_ms.append([i])\n",
    "unique_ms\n",
    "output = tb.tabulate(unique_ms, headers=[\"Types of MissionSequence\"],tablefmt = \"mediawiki\" )\n",
    "f = open(\"Unique_MissionSequences_mediawiki.txt\", \"w\")\n",
    "f.write(output)\n",
    "f.close()"
   ]
  },
  {
   "cell_type": "code",
   "execution_count": 20,
   "metadata": {},
   "outputs": [],
   "source": [
    "#Make a graph of the mission table structure\n",
    "#Get every name, value pair, and nest them somehow\n",
    "\n",
    "def get_elem_name(e,lvl):\n",
    "    n = e.attrib.get('name')\n",
    "    if n == None:\n",
    "        n = \"NO_NAME\"\n",
    "    v = e.attrib.get('value')\n",
    "    if v == None:\n",
    "        v = \"NO_VALUE\"\n",
    "    return n + ':' + v   + \":lvl:\"+str(lvl)\n",
    "\n",
    "\n",
    "def element_name_value(elem, from_node, lvl):\n",
    "    lvl = lvl + 1\n",
    "    #print(\"level: \" + str(lvl))\n",
    "    local_pair = []\n",
    "    to_node = get_elem_name(elem,lvl)\n",
    "    link = [from_node,to_node]\n",
    "    local_pair.append([from_node,to_node])\n",
    "    \n",
    "    from_node = get_elem_name(elem,lvl)\n",
    "    for e in elem.iterchildren() :\n",
    "        local_pair.extend(element_name_value(e,from_node,lvl))\n",
    "    return local_pair\n",
    "\n",
    "def get_graph(root_node):\n",
    "    lvl = 0\n",
    "    node_pairs = [] \n",
    "    root_node_name = get_elem_name(root_node,lvl)\n",
    "    pairs = element_name_value(root_node, root_node_name, lvl)\n",
    "    node_pairs.extend(pairs)\n",
    "    return node_pairs\n",
    " \n",
    "#element_name_value(npc_mission_root,\"ROOT\")        \n",
    "        \n",
    "    \n",
    "\n",
    "np = get_graph(npc_mission_root[0])\n",
    "#np = element_name_value(npc_mission_tree,\"ROOT\")\n",
    "#np = element_name_value(npc_mission_root)\n",
    "#for child in npc_mission_root[0]:\n",
    "#        print(child)\n",
    "#        if len(child):\n",
    "#            print(get_elem_name(child))\n",
    "\n",
    "#for element in npc_mission_root.iter():\n",
    "#    print(get_elem_name(element))\n",
    "##\n",
    "#tree = etree.tostring(npc_mission_root, pretty_print=True)\n",
    "#print(tree)\n",
    "\n"
   ]
  },
  {
   "cell_type": "code",
   "execution_count": 21,
   "metadata": {},
   "outputs": [],
   "source": [
    "graph = nx.Graph(np)\n",
    "\n",
    "pos = nx.kamada_kawai_layout(graph, scale = 20)"
   ]
  },
  {
   "cell_type": "code",
   "execution_count": null,
   "metadata": {},
   "outputs": [],
   "source": [
    "pickle.dump( pos, open( \"mission_graph_positions.p\", \"wb\" ) )\n",
    "#pos = pickle.load( open( \"mission_graph_positions.p\", \"rb\" ) )\n"
   ]
  },
  {
   "cell_type": "code",
   "execution_count": null,
   "metadata": {},
   "outputs": [],
   "source": [
    "options = {\n",
    "    \"font_size\": 3,\n",
    "    \"node_size\": 5,\n",
    "    \"node_color\": \"blue\",\n",
    "    \"edgecolors\": \"black\",\n",
    "    \"linewidths\": 0.2,\n",
    "    \"width\": 0.2,\n",
    "}\n",
    "\n",
    "\n",
    "# Set margins for the axes so that nodes aren't clipped\n",
    "fig = plt.figure(num=None, figsize=(10, 10), dpi=360)\n",
    "ax = plt.gca()\n",
    "ax.margins(0.20)\n",
    "plt.axis(\"off\")\n",
    "nx.draw_networkx(graph, pos, **options)\n",
    "plt.show()"
   ]
  },
  {
   "cell_type": "code",
   "execution_count": null,
   "metadata": {},
   "outputs": [],
   "source": [
    "# Import packages for data visualization\n",
    "import plotly.offline as py\n",
    "import chart_studio.plotly as py_online\n",
    "import plotly.graph_objects as go\n",
    "import chart_studio"
   ]
  },
  {
   "cell_type": "code",
   "execution_count": null,
   "metadata": {},
   "outputs": [],
   "source": [
    "py.init_notebook_mode()\n",
    "\n",
    "def make_edge(x, y, text, width):\n",
    "    return  go.Scatter(x         = x,\n",
    "                       y         = y,\n",
    "                       line      = dict(width = width,\n",
    "                                   color = 'cornflowerblue'),\n",
    "                       hoverinfo = 'text',\n",
    "                       text      = (text),\n",
    "                       mode      = 'lines')\n",
    "\n",
    "def make_node(x_cor, y_cor, text):\n",
    "    return go.Scatter(  x         = [x_cor],\n",
    "                        y         = [y_cor],\n",
    "                        text      = ([text]),\n",
    "                        textposition = \"top center\",\n",
    "                        textfont_size = 4,\n",
    "                        mode      = 'markers',\n",
    "                        hoverinfo = 'text',\n",
    "                        marker    = dict(color = ['cornflowerblue'],\n",
    "                                         size  = [2],\n",
    "                                         line  = dict(width=0.3, color='#888')))\n",
    "    \n",
    "# For each edge, make an edge_trace, append to list\n",
    "edge_trace = []\n",
    "for edge in graph.edges():\n",
    "    char_1 = edge[0]\n",
    "    char_2 = edge[1]\n",
    "    x0, y0 = pos[char_1]\n",
    "    x1, y1 = pos[char_2]\n",
    "    text   = \"\"\n",
    "\n",
    "    trace  = make_edge([x0, x1, None], [y0, y1, None], text, width = 0.2)\n",
    "    edge_trace.append(trace)\n",
    "\n",
    "    \n",
    "'''\n",
    "# Make a node trace\n",
    "node_trace = go.Scatter(x         = [],\n",
    "                        y         = [],\n",
    "                        text      = [],\n",
    "                        textposition = \"top center\",\n",
    "                        textfont_size = 5,\n",
    "                        mode      = 'markers',\n",
    "                        hoverinfo = 'text',\n",
    "                        marker    = dict(color = [\"black\"],\n",
    "                                         size  = [5],\n",
    "                                         line  = dict(width=1, color='#888')\n",
    "                                        )\n",
    "                       )\n",
    "    \n",
    "\n",
    "# For each node in midsummer, get the position and size and add to the node_trace\n",
    "nodes= []\n",
    "x_list = []\n",
    "y_list = []\n",
    "text_list = []\n",
    "\n",
    "for node in graph.nodes():\n",
    "    x, y = pos[node]\n",
    "    x_list.append(x)\n",
    "    y_list.append(y)\n",
    "    text_list.append(node)\n",
    "node_trace['x'] =  x_list\n",
    "node_trace['y'] = y_list\n",
    "node_trace['text'] = text_list\n",
    "'''\n",
    "node_trace = []\n",
    "for node in graph.nodes():\n",
    "    #print(x,y)\n",
    "    #print(node)\n",
    "    x, y = pos[node]\n",
    "    new_node = make_node(x,y,node)\n",
    "    node_trace.append(new_node)\n",
    "  \n",
    "    \n",
    "# Customize layout\n",
    "layout = go.Layout(\n",
    "    paper_bgcolor='rgba(0,0,0,0)', # transparent background\n",
    "    plot_bgcolor='rgba(0,0,0,0)', # transparent 2nd background\n",
    "    xaxis =  {'showgrid': False, 'zeroline': False}, # no gridlines\n",
    "    yaxis = {'showgrid': False, 'zeroline': False}, # no gridlines\n",
    ")"
   ]
  },
  {
   "cell_type": "code",
   "execution_count": null,
   "metadata": {},
   "outputs": [],
   "source": [
    "print(node_trace[2])\n",
    "node_trace[3]['text'][0].find(\"GcGenericMissionSequence\")"
   ]
  },
  {
   "cell_type": "code",
   "execution_count": null,
   "metadata": {},
   "outputs": [],
   "source": [
    "#Modify the cener nodes\n",
    "#NO_NAME:GcGenericMissionSequence.xml\n",
    "#Missions:NO_VALUE\n",
    "for node in node_trace :\n",
    "#    print(str(node['text'][0]))\n",
    "    if node['text'][0].find(\"Missions:NO_VALUE\") > -1 :\n",
    "        node['marker'] = dict(color = [\"green\"],size  = [10],line  = dict(width=1, color='#888'))\n",
    "    if node['text'][0].find(\"GcGenericMissionSequence\") > -1:\n",
    "        node['marker'] = dict(color = [\"red\"],size  = [10],line  = dict(width=1, color='#888'))\n",
    "    \n",
    "\n",
    "#node_trace[0]"
   ]
  },
  {
   "cell_type": "code",
   "execution_count": null,
   "metadata": {},
   "outputs": [],
   "source": [
    "# Create figure\n",
    "fig = go.Figure(layout = layout)\n",
    "# Add all edge traces\n",
    "for trace in edge_trace:\n",
    "    fig.add_trace(trace)\n",
    "    \n",
    "# Add node trace\n",
    "for trace in node_trace:\n",
    "    fig.add_trace(trace)\n",
    "\n",
    "# Remove legend\n",
    "fig.update_layout(showlegend = False)\n",
    "# Remove tick labels\n",
    "fig.update_xaxes(showticklabels = False)\n",
    "fig.update_yaxes(showticklabels = False)\n",
    "# Show figure\n",
    "fig.show()"
   ]
  },
  {
   "cell_type": "code",
   "execution_count": null,
   "metadata": {},
   "outputs": [],
   "source": [
    "fig.write_html(\"MissionBoard.html\")\n",
    "fig.savefig(\"NPCMISSIONTABLE_structure.png\",dpi = \"figure\" )"
   ]
  },
  {
   "cell_type": "code",
   "execution_count": null,
   "metadata": {},
   "outputs": [],
   "source": [
    "# put it onlne\n",
    "py_online.iplot(fig, filename = \"MissionBoardStructure\")"
   ]
  },
  {
   "cell_type": "code",
   "execution_count": null,
   "metadata": {},
   "outputs": [],
   "source": []
  },
  {
   "cell_type": "code",
   "execution_count": null,
   "metadata": {},
   "outputs": [],
   "source": [
    " for child in npc_mission_root.iterchildren():\n",
    "        print(\"--------1--------------\")\n",
    "        print(get_elem_name(child))\n",
    "        print(\"----------------------\")\n",
    "        for ch in child.iterchildren():\n",
    "            print(\"----2----\")\n",
    "            print(get_elem_name(ch))\n",
    "            for c in ch.iterchildren():\n",
    "                print(\"--3--\")\n",
    "                print(get_elem_name(c))\n",
    "                for a in c.iterchildren():\n",
    "                    print(\"-4-\")\n",
    "                    print(get_elem_name(a))\n",
    "                    for b in a.iterchildren():\n",
    "                        print(\"-5-\")\n",
    "                        print(get_elem_name(b))\n",
    "                        for d in b.iterchildren():\n",
    "                            print(\"-6-\")\n",
    "                            print(get_elem_name(d))\n",
    "\n",
    "                    \n",
    "        "
   ]
  },
  {
   "cell_type": "code",
   "execution_count": null,
   "metadata": {},
   "outputs": [],
   "source": [
    "random.choice(np)\n",
    "\n",
    "#np"
   ]
  },
  {
   "cell_type": "code",
   "execution_count": null,
   "metadata": {},
   "outputs": [],
   "source": [
    "#lets examine a single missions\n",
    "m = random.choice(missions)\n",
    "\n",
    "for p in m:\n",
    "    print(\"----- Property\")\n",
    "    print(\"\\t\" + str(p.attrib))\n",
    "    for q in p:\n",
    "        print(\"---------------- SubProperty\")\n",
    "        print(\"\\t\\t\" + str(q.attrib))\n",
    "        "
   ]
  },
  {
   "cell_type": "code",
   "execution_count": null,
   "metadata": {},
   "outputs": [],
   "source": [
    "from bs4 import BeautifulSoup\n",
    "\n",
    "bs = BeautifulSoup(open(\"test_story/METADATA/SIMULATION/MISSIONS/NPCMISSIONTABLE.EXML\"), 'xml')\n",
    "print(bs.prettify())"
   ]
  },
  {
   "cell_type": "code",
   "execution_count": null,
   "metadata": {},
   "outputs": [],
   "source": []
  },
  {
   "cell_type": "code",
   "execution_count": null,
   "metadata": {},
   "outputs": [],
   "source": []
  }
 ],
 "metadata": {
  "kernelspec": {
   "display_name": "Python 3",
   "language": "python",
   "name": "python3"
  },
  "language_info": {
   "codemirror_mode": {
    "name": "ipython",
    "version": 3
   },
   "file_extension": ".py",
   "mimetype": "text/x-python",
   "name": "python",
   "nbconvert_exporter": "python",
   "pygments_lexer": "ipython3",
   "version": "3.8.3"
  }
 },
 "nbformat": 4,
 "nbformat_minor": 4
}
